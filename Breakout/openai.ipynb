{
 "cells": [
  {
   "cell_type": "code",
   "execution_count": 1,
   "metadata": {},
   "outputs": [],
   "source": [
    "import gym\n",
    "import random"
   ]
  },
  {
   "cell_type": "code",
   "execution_count": 2,
   "metadata": {},
   "outputs": [],
   "source": [
    "env = gym.make('Breakout-v0')\n",
    "height, width, channels = env.observation_space.shape\n",
    "actions = env.action_space.n #number of actios we can take"
   ]
  },
  {
   "cell_type": "code",
   "execution_count": 3,
   "metadata": {},
   "outputs": [
    {
     "data": {
      "text/plain": [
       "['NOOP', 'FIRE', 'RIGHT', 'LEFT']"
      ]
     },
     "execution_count": 3,
     "metadata": {},
     "output_type": "execute_result"
    }
   ],
   "source": [
    "env.unwrapped.get_action_meanings()"
   ]
  },
  {
   "cell_type": "code",
   "execution_count": 10,
   "metadata": {},
   "outputs": [
    {
     "name": "stdout",
     "output_type": "stream",
     "text": [
      "Episode:0 Score: 3.0\n",
      "Episode:1 Score: 0.0\n",
      "Episode:2 Score: 3.0\n",
      "Episode:3 Score: 0.0\n",
      "Episode:4 Score: 0.0\n",
      "Episode:5 Score: 2.0\n",
      "Episode:6 Score: 1.0\n",
      "Episode:7 Score: 1.0\n",
      "Episode:8 Score: 4.0\n",
      "Episode:9 Score: 2.0\n"
     ]
    }
   ],
   "source": [
    "episodes = 10\n",
    "for episode in range(episodes):\n",
    "    state = env.reset()\n",
    "    done = False\n",
    "    score = 0\n",
    "    while not done:\n",
    "        env.render()\n",
    "        action = random.choice(list(range(actions)))\n",
    "        n_state, reward, done, info = env.step(action)\n",
    "        score += reward\n",
    "    print('Episode:{} Score: {}'.format(episode, score))\n",
    "env.close()"
   ]
  },
  {
   "cell_type": "code",
   "execution_count": 12,
   "metadata": {},
   "outputs": [],
   "source": [
    "import numpy as np\n",
    "from tensorflow.keras.models import Sequential\n",
    "from tensorflow.keras.layers import Dense, Flatten, Convolution2D\n",
    "from tensorflow.keras.optimizers import Adam"
   ]
  },
  {
   "cell_type": "code",
   "execution_count": 13,
   "metadata": {},
   "outputs": [],
   "source": [
    "#https://arxiv.org/pdf/1312.5602v1.pdf architecture based on DeepMind paper\n",
    "def create_model(height, width, channels, actions):\n",
    "    model = Sequential()\n",
    "    model.add(Convolution2D(16, (8,8), strides=(4,4), activation='relu', input_shape=(3,height, width, channels)))\n",
    "    model.add(Convolution2D(32, (4,4), strides=(2,2), activation='relu'))\n",
    "    model.add(Flatten())\n",
    "    model.add(Dense(256, activation='relu'))\n",
    "    model.add(Dense(64, activation='relu'))\n",
    "    model.add(Dense(actions, activation='linear'))\n",
    "    return model"
   ]
  },
  {
   "cell_type": "code",
   "execution_count": 19,
   "metadata": {},
   "outputs": [],
   "source": [
    "del model"
   ]
  },
  {
   "cell_type": "code",
   "execution_count": 20,
   "metadata": {},
   "outputs": [],
   "source": [
    "model = create_model(height, width, channels, actions)"
   ]
  },
  {
   "cell_type": "code",
   "execution_count": 15,
   "metadata": {},
   "outputs": [
    {
     "name": "stdout",
     "output_type": "stream",
     "text": [
      "Model: \"sequential\"\n",
      "_________________________________________________________________\n",
      "Layer (type)                 Output Shape              Param #   \n",
      "=================================================================\n",
      "conv2d (Conv2D)              (None, 3, 51, 39, 16)     3088      \n",
      "_________________________________________________________________\n",
      "conv2d_1 (Conv2D)            (None, 3, 24, 18, 32)     8224      \n",
      "_________________________________________________________________\n",
      "flatten (Flatten)            (None, 41472)             0         \n",
      "_________________________________________________________________\n",
      "dense (Dense)                (None, 256)               10617088  \n",
      "_________________________________________________________________\n",
      "dense_1 (Dense)              (None, 64)                16448     \n",
      "_________________________________________________________________\n",
      "dense_2 (Dense)              (None, 4)                 260       \n",
      "=================================================================\n",
      "Total params: 10,645,108\n",
      "Trainable params: 10,645,108\n",
      "Non-trainable params: 0\n",
      "_________________________________________________________________\n"
     ]
    }
   ],
   "source": [
    "model.summary()"
   ]
  },
  {
   "cell_type": "code",
   "execution_count": 16,
   "metadata": {},
   "outputs": [],
   "source": [
    "from rl.agents import DQNAgent\n",
    "from rl.memory import SequentialMemory\n",
    "from rl.policy import LinearAnnealedPolicy, EpsGreedyQPolicy"
   ]
  },
  {
   "cell_type": "code",
   "execution_count": 17,
   "metadata": {},
   "outputs": [],
   "source": [
    "def create_agent(model, actions):\n",
    "    policy = LinearAnnealedPolicy(EpsGreedyQPolicy(), attr='eps', value_max=1., value_min=.1, value_test=.2, nb_steps=10000)\n",
    "    memory = SequentialMemory(limit=1000, window_length=3)\n",
    "    dqn = DQNAgent(model=model, memory=memory, policy=policy,\n",
    "                  enable_dueling_network=True, dueling_type='avg',\n",
    "                  nb_actions=actions, nb_steps_warmup=1000\n",
    "                  )\n",
    "    return dqn"
   ]
  },
  {
   "cell_type": "code",
   "execution_count": null,
   "metadata": {},
   "outputs": [
    {
     "name": "stdout",
     "output_type": "stream",
     "text": [
      "Training for 10000 steps ...\n",
      "WARNING:tensorflow:From c:\\users\\filip\\appdata\\local\\programs\\python\\python38\\lib\\site-packages\\tensorflow\\python\\keras\\engine\\training_v1.py:2070: Model.state_updates (from tensorflow.python.keras.engine.training) is deprecated and will be removed in a future version.\n",
      "Instructions for updating:\n",
      "This property should not be used in TensorFlow 2.0, as updates are applied automatically.\n",
      "  276/10000: episode: 1, duration: 4.109s, episode steps: 276, steps per second:  67, episode reward:  2.000, mean reward:  0.007 [ 0.000,  1.000], mean action: 1.591 [0.000, 3.000],  loss: --, mean_q: --, mean_eps: --\n",
      "  457/10000: episode: 2, duration: 2.564s, episode steps: 181, steps per second:  71, episode reward:  0.000, mean reward:  0.000 [ 0.000,  0.000], mean action: 1.348 [0.000, 3.000],  loss: --, mean_q: --, mean_eps: --\n",
      "  707/10000: episode: 3, duration: 3.781s, episode steps: 250, steps per second:  66, episode reward:  1.000, mean reward:  0.004 [ 0.000,  1.000], mean action: 1.456 [0.000, 3.000],  loss: --, mean_q: --, mean_eps: --\n",
      "  945/10000: episode: 4, duration: 3.561s, episode steps: 238, steps per second:  67, episode reward:  1.000, mean reward:  0.004 [ 0.000,  1.000], mean action: 1.445 [0.000, 3.000],  loss: --, mean_q: --, mean_eps: --\n",
      " 1249/10000: episode: 5, duration: 222.670s, episode steps: 304, steps per second:   1, episode reward:  2.000, mean reward:  0.007 [ 0.000,  1.000], mean action: 1.510 [0.000, 3.000],  loss: 46.935082, mean_q: -27.302587, mean_eps: 0.898795\n",
      " 1554/10000: episode: 6, duration: 317.758s, episode steps: 305, steps per second:   1, episode reward:  2.000, mean reward:  0.007 [ 0.000,  1.000], mean action: 1.482 [0.000, 3.000],  loss: 3.026964, mean_q: -28.851474, mean_eps: 0.873910\n",
      " 1826/10000: episode: 7, duration: 355.187s, episode steps: 272, steps per second:   1, episode reward:  2.000, mean reward:  0.007 [ 0.000,  1.000], mean action: 1.496 [0.000, 3.000],  loss: 2.383045, mean_q: -29.716902, mean_eps: 0.847945\n",
      " 2153/10000: episode: 8, duration: 420.494s, episode steps: 327, steps per second:   1, episode reward:  3.000, mean reward:  0.009 [ 0.000,  1.000], mean action: 1.523 [0.000, 3.000],  loss: 2.396836, mean_q: -30.284246, mean_eps: 0.820990\n",
      " 2460/10000: episode: 9, duration: 401.833s, episode steps: 307, steps per second:   1, episode reward:  3.000, mean reward:  0.010 [ 0.000,  1.000], mean action: 1.469 [0.000, 3.000],  loss: 1.759700, mean_q: -30.387188, mean_eps: 0.792460\n",
      " 2859/10000: episode: 10, duration: 532.720s, episode steps: 399, steps per second:   1, episode reward:  4.000, mean reward:  0.010 [ 0.000,  1.000], mean action: 1.386 [0.000, 3.000],  loss: 1.782209, mean_q: -29.524505, mean_eps: 0.760690\n",
      " 3038/10000: episode: 11, duration: 250.943s, episode steps: 179, steps per second:   1, episode reward:  0.000, mean reward:  0.000 [ 0.000,  0.000], mean action: 1.670 [0.000, 3.000],  loss: 1.357584, mean_q: -28.900765, mean_eps: 0.734680\n",
      " 3200/10000: episode: 12, duration: 222.742s, episode steps: 162, steps per second:   1, episode reward:  0.000, mean reward:  0.000 [ 0.000,  0.000], mean action: 1.605 [0.000, 3.000],  loss: 2.357259, mean_q: -28.577922, mean_eps: 0.719335\n"
     ]
    }
   ],
   "source": [
    "dqn = create_agent(model, actions)\n",
    "dqn.compile(Adam(lr=1e-4))\n",
    "dqn.fit(env, nb_steps=10000, visualize=False, verbose=2)"
   ]
  },
  {
   "cell_type": "code",
   "execution_count": 30,
   "metadata": {},
   "outputs": [
    {
     "name": "stdout",
     "output_type": "stream",
     "text": [
      "Testing for 10 episodes ...\n"
     ]
    },
    {
     "name": "stderr",
     "output_type": "stream",
     "text": [
      "c:\\users\\filip\\appdata\\local\\programs\\python\\python38\\lib\\site-packages\\gym\\envs\\atari\\environment.py:255: UserWarning: \u001b[33mWARN: We strongly suggest supplying `render_mode` when constructing your environment, e.g., gym.make(ID, render_mode='human'). Using `render_mode` provides access to proper scaling, audio support, and proper framerates.\u001b[0m\n",
      "  logger.warn(\n"
     ]
    },
    {
     "name": "stdout",
     "output_type": "stream",
     "text": [
      "Episode 1: reward: 145.000, steps: 705\n",
      "Episode 2: reward: 260.000, steps: 985\n",
      "Episode 3: reward: 140.000, steps: 782\n",
      "Episode 4: reward: 110.000, steps: 689\n",
      "Episode 5: reward: 285.000, steps: 1423\n",
      "Episode 6: reward: 185.000, steps: 845\n",
      "Episode 7: reward: 110.000, steps: 681\n",
      "Episode 8: reward: 25.000, steps: 375\n",
      "Episode 9: reward: 210.000, steps: 817\n",
      "Episode 10: reward: 150.000, steps: 663\n",
      "162.0\n"
     ]
    }
   ],
   "source": [
    "scores = dqn.test(env, nb_episodes=10, visualize=True)\n",
    "print(np.mean(scores.history['episode_reward']))"
   ]
  },
  {
   "cell_type": "code",
   "execution_count": 32,
   "metadata": {},
   "outputs": [
    {
     "name": "stdout",
     "output_type": "stream",
     "text": [
      "[WARNING] savedModels/10k-weights.h5f.index already exists - overwrite? [y/n]y\n",
      "[TIP] Next time specify overwrite=True!\n"
     ]
    }
   ],
   "source": [
    "dqn.save_weights('savedModels/10k-weights.h5f')"
   ]
  },
  {
   "cell_type": "code",
   "execution_count": null,
   "metadata": {},
   "outputs": [],
   "source": [
    "dqn.load_weights('savedModels/10k-weights.h5f')"
   ]
  }
 ],
 "metadata": {
  "interpreter": {
   "hash": "f3807dd5efc34377faf417a9cd79d1987ca34792fc2d643ce72032a592f034d6"
  },
  "kernelspec": {
   "display_name": "Python 3 (ipykernel)",
   "language": "python",
   "name": "python3"
  },
  "language_info": {
   "codemirror_mode": {
    "name": "ipython",
    "version": 3
   },
   "file_extension": ".py",
   "mimetype": "text/x-python",
   "name": "python",
   "nbconvert_exporter": "python",
   "pygments_lexer": "ipython3",
   "version": "3.8.6"
  }
 },
 "nbformat": 4,
 "nbformat_minor": 2
}
