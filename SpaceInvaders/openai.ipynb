{
 "cells": [
  {
   "cell_type": "code",
   "execution_count": 1,
   "metadata": {},
   "outputs": [],
   "source": [
    "import gym\n",
    "import random"
   ]
  },
  {
   "cell_type": "code",
   "execution_count": 2,
   "metadata": {},
   "outputs": [],
   "source": [
    "env = gym.make('SpaceInvaders-v0')\n",
    "height, width, channels = env.observation_space.shape\n",
    "actions = env.action_space.n #number of actios we can take"
   ]
  },
  {
   "cell_type": "code",
   "execution_count": 4,
   "metadata": {},
   "outputs": [
    {
     "data": {
      "text/plain": [
       "['NOOP', 'FIRE', 'RIGHT', 'LEFT', 'RIGHTFIRE', 'LEFTFIRE']"
      ]
     },
     "execution_count": 4,
     "metadata": {},
     "output_type": "execute_result"
    }
   ],
   "source": [
    "env.unwrapped.get_action_meanings()"
   ]
  },
  {
   "cell_type": "code",
   "execution_count": 8,
   "metadata": {},
   "outputs": [
    {
     "name": "stdout",
     "output_type": "stream",
     "text": [
      "Episode:0 Score: 120.0\n",
      "Episode:1 Score: 80.0\n",
      "Episode:2 Score: 45.0\n",
      "Episode:3 Score: 110.0\n",
      "Episode:4 Score: 110.0\n",
      "Episode:5 Score: 170.0\n",
      "Episode:6 Score: 110.0\n",
      "Episode:7 Score: 80.0\n",
      "Episode:8 Score: 90.0\n",
      "Episode:9 Score: 210.0\n"
     ]
    }
   ],
   "source": [
    "episodes = 10\n",
    "for episode in range(episodes):\n",
    "    state = env.reset()\n",
    "    done = False\n",
    "    score = 0\n",
    "    while not done:\n",
    "        env.render()\n",
    "        action = random.choice([0,1,2,3,4,5])\n",
    "        n_state, reward, done, info = env.step(action)\n",
    "        score += reward\n",
    "    print('Episode:{} Score: {}'.format(episode, score))\n",
    "env.close()"
   ]
  },
  {
   "cell_type": "code",
   "execution_count": 10,
   "metadata": {},
   "outputs": [],
   "source": [
    "import numpy as np\n",
    "from tensorflow.keras.models import Sequential\n",
    "from tensorflow.keras.layers import Dense, Flatten, Convolution2D\n",
    "from tensorflow.keras.optimizers import Adam"
   ]
  },
  {
   "cell_type": "code",
   "execution_count": 13,
   "metadata": {},
   "outputs": [],
   "source": [
    "def create_model(height, width, channels, actions):\n",
    "    model = Sequential()\n",
    "    model.add(Convolution2D(32, (8,8), strides=(4,4), activation='relu', input_shape=(3,height, width, channels)))\n",
    "    model.add(Convolution2D(64, (4,4), strides=(2,2), activation='relu'))\n",
    "    model.add(Convolution2D(64, (3,3), activation='relu'))\n",
    "    model.add(Flatten())\n",
    "    model.add(Dense(512, activation='relu'))\n",
    "    model.add(Dense(256, activation='relu'))\n",
    "    model.add(Dense(actions, activation='linear'))\n",
    "    return model"
   ]
  },
  {
   "cell_type": "code",
   "execution_count": 21,
   "metadata": {},
   "outputs": [],
   "source": [
    "del model"
   ]
  },
  {
   "cell_type": "code",
   "execution_count": 23,
   "metadata": {},
   "outputs": [],
   "source": [
    "model = create_model(height, width, channels, actions)"
   ]
  },
  {
   "cell_type": "code",
   "execution_count": 24,
   "metadata": {},
   "outputs": [
    {
     "name": "stdout",
     "output_type": "stream",
     "text": [
      "Model: \"sequential_3\"\n",
      "_________________________________________________________________\n",
      "Layer (type)                 Output Shape              Param #   \n",
      "=================================================================\n",
      "conv2d_9 (Conv2D)            (None, 3, 51, 39, 32)     6176      \n",
      "_________________________________________________________________\n",
      "conv2d_10 (Conv2D)           (None, 3, 24, 18, 64)     32832     \n",
      "_________________________________________________________________\n",
      "conv2d_11 (Conv2D)           (None, 3, 22, 16, 64)     36928     \n",
      "_________________________________________________________________\n",
      "flatten_3 (Flatten)          (None, 67584)             0         \n",
      "_________________________________________________________________\n",
      "dense_10 (Dense)             (None, 512)               34603520  \n",
      "_________________________________________________________________\n",
      "dense_11 (Dense)             (None, 256)               131328    \n",
      "_________________________________________________________________\n",
      "dense_12 (Dense)             (None, 6)                 1542      \n",
      "=================================================================\n",
      "Total params: 34,812,326\n",
      "Trainable params: 34,812,326\n",
      "Non-trainable params: 0\n",
      "_________________________________________________________________\n"
     ]
    }
   ],
   "source": [
    "model.summary()"
   ]
  },
  {
   "cell_type": "code",
   "execution_count": 25,
   "metadata": {},
   "outputs": [],
   "source": [
    "from rl.agents import DQNAgent\n",
    "from rl.memory import SequentialMemory\n",
    "from rl.policy import LinearAnnealedPolicy, EpsGreedyQPolicy"
   ]
  },
  {
   "cell_type": "code",
   "execution_count": 28,
   "metadata": {},
   "outputs": [],
   "source": [
    "def create_agent(model, actions):\n",
    "    policy = LinearAnnealedPolicy(EpsGreedyQPolicy(), attr='eps', value_max=1., value_min=.1, value_test=.2, nb_steps=10000)\n",
    "    memory = SequentialMemory(limit=1000, window_length=3)\n",
    "    dqn = DQNAgent(model=model, memory=memory, policy=policy,\n",
    "                  enable_dueling_network=True, dueling_type='avg',\n",
    "                  nb_actions=actions, nb_steps_warmup=1000\n",
    "                  )\n",
    "    return dqn"
   ]
  },
  {
   "cell_type": "code",
   "execution_count": 29,
   "metadata": {},
   "outputs": [
    {
     "name": "stdout",
     "output_type": "stream",
     "text": [
      "Training for 10000 steps ...\n",
      "  426/10000: episode: 1, duration: 12.024s, episode steps: 426, steps per second:  35, episode reward: 130.000, mean reward:  0.305 [ 0.000, 30.000], mean action: 2.559 [0.000, 5.000],  loss: --, mean_q: --, mean_eps: --\n",
      " 1234/10000: episode: 2, duration: 328.658s, episode steps: 808, steps per second:   2, episode reward: 225.000, mean reward:  0.278 [ 0.000, 30.000], mean action: 2.447 [0.000, 5.000],  loss: 10.058667, mean_q: 3.340725, mean_eps: 0.899470\n",
      " 1886/10000: episode: 3, duration: 875.061s, episode steps: 652, steps per second:   1, episode reward: 105.000, mean reward:  0.161 [ 0.000, 25.000], mean action: 2.604 [0.000, 5.000],  loss: 1.109316, mean_q: 3.140183, mean_eps: 0.859645\n",
      " 2705/10000: episode: 4, duration: 1060.202s, episode steps: 819, steps per second:   1, episode reward: 155.000, mean reward:  0.189 [ 0.000, 30.000], mean action: 2.503 [0.000, 5.000],  loss: 0.637999, mean_q: 3.071300, mean_eps: 0.793450\n",
      " 3385/10000: episode: 5, duration: 912.142s, episode steps: 680, steps per second:   1, episode reward: 95.000, mean reward:  0.140 [ 0.000, 20.000], mean action: 2.518 [0.000, 5.000],  loss: 0.327705, mean_q: 3.084944, mean_eps: 0.725995\n",
      " 4019/10000: episode: 6, duration: 5834.983s, episode steps: 634, steps per second:   0, episode reward: 180.000, mean reward:  0.284 [ 0.000, 30.000], mean action: 2.306 [0.000, 5.000],  loss: 0.457868, mean_q: 2.206514, mean_eps: 0.666865\n",
      " 4990/10000: episode: 7, duration: 1277.698s, episode steps: 971, steps per second:   1, episode reward: 200.000, mean reward:  0.206 [ 0.000, 30.000], mean action: 2.418 [0.000, 5.000],  loss: 0.510453, mean_q: 3.119366, mean_eps: 0.594640\n",
      " 5382/10000: episode: 8, duration: 522.582s, episode steps: 392, steps per second:   1, episode reward: 100.000, mean reward:  0.255 [ 0.000, 30.000], mean action: 2.462 [0.000, 5.000],  loss: 0.393795, mean_q: 3.108346, mean_eps: 0.533305\n",
      " 6208/10000: episode: 9, duration: 1075.136s, episode steps: 826, steps per second:   1, episode reward: 220.000, mean reward:  0.266 [ 0.000, 30.000], mean action: 2.501 [0.000, 5.000],  loss: 0.317456, mean_q: 2.546018, mean_eps: 0.478495\n",
      " 6824/10000: episode: 10, duration: 807.941s, episode steps: 616, steps per second:   1, episode reward: 50.000, mean reward:  0.081 [ 0.000, 20.000], mean action: 2.662 [0.000, 5.000],  loss: 0.112948, mean_q: 2.097123, mean_eps: 0.413605\n",
      " 7645/10000: episode: 11, duration: 1045.036s, episode steps: 821, steps per second:   1, episode reward: 150.000, mean reward:  0.183 [ 0.000, 30.000], mean action: 2.452 [0.000, 5.000],  loss: 0.198291, mean_q: 2.511602, mean_eps: 0.348940\n",
      " 8645/10000: episode: 12, duration: 1265.797s, episode steps: 1000, steps per second:   1, episode reward: 290.000, mean reward:  0.290 [ 0.000, 30.000], mean action: 2.579 [0.000, 5.000],  loss: 0.382870, mean_q: 2.310247, mean_eps: 0.266995\n",
      " 9697/10000: episode: 13, duration: 1379.595s, episode steps: 1052, steps per second:   1, episode reward: 300.000, mean reward:  0.285 [ 0.000, 30.000], mean action: 2.606 [0.000, 5.000],  loss: 0.350841, mean_q: 2.298329, mean_eps: 0.174655\n",
      "done, took 16785.723 seconds\n"
     ]
    },
    {
     "data": {
      "text/plain": [
       "<tensorflow.python.keras.callbacks.History at 0x1d901509a90>"
      ]
     },
     "execution_count": 29,
     "metadata": {},
     "output_type": "execute_result"
    }
   ],
   "source": [
    "dqn = create_agent(model, actions)\n",
    "dqn.compile(Adam(lr=1e-4))\n",
    "dqn.fit(env, nb_steps=10000, visualize=False, verbose=2)"
   ]
  },
  {
   "cell_type": "code",
   "execution_count": 30,
   "metadata": {},
   "outputs": [
    {
     "name": "stdout",
     "output_type": "stream",
     "text": [
      "Testing for 10 episodes ...\n"
     ]
    },
    {
     "name": "stderr",
     "output_type": "stream",
     "text": [
      "c:\\users\\filip\\appdata\\local\\programs\\python\\python38\\lib\\site-packages\\gym\\envs\\atari\\environment.py:255: UserWarning: \u001b[33mWARN: We strongly suggest supplying `render_mode` when constructing your environment, e.g., gym.make(ID, render_mode='human'). Using `render_mode` provides access to proper scaling, audio support, and proper framerates.\u001b[0m\n",
      "  logger.warn(\n"
     ]
    },
    {
     "name": "stdout",
     "output_type": "stream",
     "text": [
      "Episode 1: reward: 145.000, steps: 705\n",
      "Episode 2: reward: 260.000, steps: 985\n",
      "Episode 3: reward: 140.000, steps: 782\n",
      "Episode 4: reward: 110.000, steps: 689\n",
      "Episode 5: reward: 285.000, steps: 1423\n",
      "Episode 6: reward: 185.000, steps: 845\n",
      "Episode 7: reward: 110.000, steps: 681\n",
      "Episode 8: reward: 25.000, steps: 375\n",
      "Episode 9: reward: 210.000, steps: 817\n",
      "Episode 10: reward: 150.000, steps: 663\n",
      "162.0\n"
     ]
    }
   ],
   "source": [
    "scores = dqn.test(env, nb_episodes=10, visualize=True)\n",
    "print(np.mean(scores.history['episode_reward']))"
   ]
  },
  {
   "cell_type": "code",
   "execution_count": 32,
   "metadata": {},
   "outputs": [
    {
     "name": "stdout",
     "output_type": "stream",
     "text": [
      "[WARNING] savedModels/10k-weights.h5f.index already exists - overwrite? [y/n]y\n",
      "[TIP] Next time specify overwrite=True!\n"
     ]
    }
   ],
   "source": [
    "dqn.save_weights('savedModels/10k-weights.h5f')"
   ]
  },
  {
   "cell_type": "code",
   "execution_count": null,
   "metadata": {},
   "outputs": [],
   "source": [
    "dqn.load_weights('savedModels/10k-weights.h5f')"
   ]
  }
 ],
 "metadata": {
  "interpreter": {
   "hash": "f3807dd5efc34377faf417a9cd79d1987ca34792fc2d643ce72032a592f034d6"
  },
  "kernelspec": {
   "display_name": "Python 3 (ipykernel)",
   "language": "python",
   "name": "python3"
  },
  "language_info": {
   "codemirror_mode": {
    "name": "ipython",
    "version": 3
   },
   "file_extension": ".py",
   "mimetype": "text/x-python",
   "name": "python",
   "nbconvert_exporter": "python",
   "pygments_lexer": "ipython3",
   "version": "3.8.6"
  }
 },
 "nbformat": 4,
 "nbformat_minor": 2
}
